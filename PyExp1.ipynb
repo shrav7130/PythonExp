{
 "cells": [
  {
   "cell_type": "markdown",
   "metadata": {},
   "source": [
    "Shravan Surve SE3_70"
   ]
  },
  {
   "cell_type": "code",
   "execution_count": 2,
   "metadata": {},
   "outputs": [
    {
     "name": "stdout",
     "output_type": "stream",
     "text": [
      "I am th\n"
     ]
    }
   ],
   "source": [
    "str=\"I am the Noob\"\n",
    "str=str[0:7]\n",
    "print(str)"
   ]
  },
  {
   "cell_type": "code",
   "execution_count": 5,
   "metadata": {},
   "outputs": [
    {
     "name": "stdout",
     "output_type": "stream",
     "text": [
      "[7, 1, 2, 3, 4, 5]\n"
     ]
    }
   ],
   "source": [
    "list=[1,2,3,4,5]\n",
    "list.insert(0,7)\n",
    "print(list)"
   ]
  },
  {
   "cell_type": "code",
   "execution_count": 3,
   "metadata": {},
   "outputs": [
    {
     "name": "stdout",
     "output_type": "stream",
     "text": [
      "5\n"
     ]
    }
   ],
   "source": [
    "tuple=(1,2,3,4,5,6)\n",
    "print(tuple[4])"
   ]
  },
  {
   "cell_type": "code",
   "execution_count": 4,
   "metadata": {},
   "outputs": [
    {
     "name": "stdout",
     "output_type": "stream",
     "text": [
      "{1: 'Stark', 2: 'Lanister', 3: 'Targaryen', 4: 'Baratheon', 6: 'Tyrell', 7: 'Martell'}\n",
      "{1: 'Stark', 2: 'Lanister', 3: 'Targaryen', 4: 'Baratheon', 6: 'Tyrell', 7: 'Martell', 8: 'Seasnake'}\n"
     ]
    }
   ],
   "source": [
    "westross={\n",
    "    1:\"Stark\",\n",
    "    2:\"Lanister\",\n",
    "    3:\"Targaryen\",\n",
    "    4:\"Baratheon\",\n",
    "    5:\"Greyjoy\",\n",
    "    6:\"Tyrell\",\n",
    "    7:\"Martell\",\n",
    "}\n",
    "\n",
    "del westross[5]\n",
    "print(westross)\n",
    "westross[8]=\"Seasnake\"\n",
    "print(westross)"
   ]
  }
 ],
 "metadata": {
  "kernelspec": {
   "display_name": "Python 3",
   "language": "python",
   "name": "python3"
  },
  "language_info": {
   "codemirror_mode": {
    "name": "ipython",
    "version": 3
   },
   "file_extension": ".py",
   "mimetype": "text/x-python",
   "name": "python",
   "nbconvert_exporter": "python",
   "pygments_lexer": "ipython3",
   "version": "3.11.8"
  }
 },
 "nbformat": 4,
 "nbformat_minor": 2
}
