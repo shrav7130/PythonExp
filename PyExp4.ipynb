{
 "cells": [
  {
   "cell_type": "markdown",
   "metadata": {},
   "source": [
    "Shravan Surve SE3_70"
   ]
  },
  {
   "cell_type": "code",
   "execution_count": 1,
   "metadata": {},
   "outputs": [
    {
     "name": "stdout",
     "output_type": "stream",
     "text": [
      "My name is\n",
      "My name is Shravan Surve \n"
     ]
    }
   ],
   "source": [
    "from contextlib import contextmanager\n",
    "\n",
    "@contextmanager\n",
    "def genericFileFunction (filename, method):\n",
    "    file = open (filename, method)\n",
    "    yield file\n",
    "    file.close ()\n",
    "\n",
    "if __name__ == '__main__':\n",
    "    with genericFileFunction ('./file.txt', 'w') as f:\n",
    "        f.write ('My name is')\n",
    "    with genericFileFunction ('./file.txt', 'r') as f:\n",
    "        print(f.read())\n",
    "    with genericFileFunction ('./file.txt', 'a') as f:\n",
    "         f.write (' Shravan Surve ')\n",
    "    with genericFileFunction ('./file.txt', 'r') as f:\n",
    "        print(f.read())"
   ]
  }
 ],
 "metadata": {
  "kernelspec": {
   "display_name": "Python 3",
   "language": "python",
   "name": "python3"
  },
  "language_info": {
   "codemirror_mode": {
    "name": "ipython",
    "version": 3
   },
   "file_extension": ".py",
   "mimetype": "text/x-python",
   "name": "python",
   "nbconvert_exporter": "python",
   "pygments_lexer": "ipython3",
   "version": "3.11.8"
  }
 },
 "nbformat": 4,
 "nbformat_minor": 2
}
